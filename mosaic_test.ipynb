{
 "cells": [
  {
   "cell_type": "code",
   "execution_count": 1,
   "metadata": {
    "collapsed": false
   },
   "outputs": [],
   "source": [
    "import grizli\n",
    "import numpy as np\n",
    "import matplotlib.pyplot as plt\n",
    "from vtl.Readfile import Readfile\n",
    "from scipy.interpolate import interp1d\n",
    "from astropy.table import Table\n",
    "from astropy.io import fits\n",
    "from collections import OrderedDict\n",
    "import astropy.wcs as pywcs\n",
    "import pysynphot as S\n",
    "import seaborn as sea\n",
    "\n",
    "sea.set(style='white')\n",
    "sea.set(style='ticks')\n",
    "sea.set_style({\"xtick.direction\": \"in\",\"ytick.direction\": \"in\"})\n",
    "colmap = sea.cubehelix_palette(12, start=2, rot=.2, dark=0, light=1, as_cmap=True)"
   ]
  },
  {
   "cell_type": "markdown",
   "metadata": {},
   "source": [
    "Define Function to change flux into magnitudes"
   ]
  },
  {
   "cell_type": "code",
   "execution_count": 2,
   "metadata": {
    "collapsed": true
   },
   "outputs": [],
   "source": [
    "def Mag(band):\n",
    "    magnitude=25-2.5*np.log10(band)\n",
    "    return magnitude"
   ]
  },
  {
   "cell_type": "markdown",
   "metadata": {},
   "source": [
    "Create initial model"
   ]
  },
  {
   "cell_type": "code",
   "execution_count": 67,
   "metadata": {
    "collapsed": false
   },
   "outputs": [
    {
     "name": "stdout",
     "output_type": "stream",
     "text": [
      "Image cutout: x=slice(6340, 10445, None), y=slice(12710, 16937, None)\n",
      "/Users/Vince.ec/Clear_data/flt_files/icxt30s0q_flt.fits / blot reference /Users/Vince.ec/Clear_data/goodss_mosaic/goodss_3dhst.v4.0.F125W_orig_sci.fits[0]\n",
      "Using default C-based coordinate transformation...\n",
      "Image cutout: x=slice(6340, 10445, None), y=slice(12710, 16937, None)\n",
      "/Users/Vince.ec/Clear_data/flt_files/icxt30s0q_flt.fits / Pad ref HDU with 50 pixels\n",
      "/Users/Vince.ec/Clear_data/flt_files/icxt30s0q_flt.fits / blot segmentation /Users/Vince.ec/Clear_data/goodss_mosaic/goodss_3dhst.v4.0.F160W_seg.fits[0]\n",
      "Using default C-based coordinate transformation...\n",
      "Using default C-based coordinate transformation...\n"
     ]
    }
   ],
   "source": [
    "pad=100\n",
    "# grism_input='/Users/Vince.ec/Clear_data/flt_files/icxt52i0q_flt.fits'\n",
    "# reference_image='/Users/Vince.ec/Clear_data/goodsn_mosaic/goodsn_3dhst.v4.0.F125W_orig_sci.fits'\n",
    "# segment_map='/Users/Vince.ec/Clear_data/goodsn_mosaic/goodsn_3dhst.v4.0.F160W_seg.fits'\n",
    "\n",
    "grism_input='/Users/Vince.ec/Clear_data/flt_files/icxt30s0q_flt.fits'\n",
    "reference_image='/Users/Vince.ec/Clear_data/goodss_mosaic/goodss_3dhst.v4.0.F125W_orig_sci.fits'\n",
    "segment_map='/Users/Vince.ec/Clear_data/goodss_mosaic/goodss_3dhst.v4.0.F160W_seg.fits'\n",
    "\n",
    "sim_g102 = grizli.model.GrismFLT(grism_file=grism_input,verbose=True,ref_file=reference_image,seg_file=segment_map,force_grism='G102',pad=pad)"
   ]
  },
  {
   "cell_type": "markdown",
   "metadata": {},
   "source": [
    "Read in catalogs"
   ]
  },
  {
   "cell_type": "code",
   "execution_count": 68,
   "metadata": {
    "collapsed": true
   },
   "outputs": [],
   "source": [
    "# ref_cat=Table.read(fits.open('/Users/Vince.ec/Clear_data/goodsn_mosaic/goodsn_3dhst.v4.3.cat.FITS')[1])\n",
    "ref_cat=Table.read('/Users/Vince.ec/Clear_data/goodss_mosaic/goodss_3dhst.v4.3.cat',format='ascii')\n",
    "sim_cat=sim_g102.blot_catalog(ref_cat,sextractor=False)"
   ]
  },
  {
   "cell_type": "markdown",
   "metadata": {},
   "source": [
    "Select objects"
   ]
  },
  {
   "cell_type": "code",
   "execution_count": 69,
   "metadata": {
    "collapsed": false
   },
   "outputs": [
    {
     "name": "stdout",
     "output_type": "stream",
     "text": [
      "N=1148\n"
     ]
    }
   ],
   "source": [
    "mask = Mag(sim_cat['f_F125W']) < 27\n",
    " \n",
    "print('N=%d' %(mask.sum()))\n",
    "\n",
    "sim_g102.compute_full_model(ids=sim_cat['id'], mags=Mag(sim_cat['f_F125W']))"
   ]
  },
  {
   "cell_type": "markdown",
   "metadata": {},
   "source": [
    "Locate object"
   ]
  },
  {
   "cell_type": "code",
   "execution_count": 80,
   "metadata": {
    "collapsed": false
   },
   "outputs": [
    {
     "name": "stdout",
     "output_type": "stream",
     "text": [
      "ID:40891, mag=19.96\n"
     ]
    }
   ],
   "source": [
    "# gal_id =21156\n",
    "# gal_id=40597\n",
    "gal_id=40891\n",
    "obj_mag = Mag(ref_cat['f_F125W'][np.argwhere(ref_cat['id']==gal_id)])\n",
    "print('ID:%d, mag=%.2f' %(gal_id, obj_mag))"
   ]
  },
  {
   "cell_type": "markdown",
   "metadata": {},
   "source": [
    "Create cutout"
   ]
  },
  {
   "cell_type": "code",
   "execution_count": 81,
   "metadata": {
    "collapsed": false
   },
   "outputs": [
    {
     "name": "stdout",
     "output_type": "stream",
     "text": [
      "cutout done\n"
     ]
    }
   ],
   "source": [
    "beam_g102 = grizli.model.BeamCutout(sim_g102, sim_g102.object_dispersers[gal_id]['A'])\n",
    "print 'cutout done'"
   ]
  },
  {
   "cell_type": "markdown",
   "metadata": {},
   "source": [
    "Simulate spectra"
   ]
  },
  {
   "cell_type": "code",
   "execution_count": 82,
   "metadata": {
    "collapsed": false
   },
   "outputs": [],
   "source": [
    "wave, fl = np.array(Readfile('/Users/Vince.ec/fsps_models_for_fit/fsps_spec/m0.027_a3.4_t8.86_spec.dat'))\n",
    "\n",
    "## redshift spec\n",
    "spec = S.ArraySpectrum(wave, fl, fluxunits='flam')\n",
    "spec = spec.redshift(1.256).renorm(1., 'flam', S.ObsBandpass('wfc3,ir,f125w'))\n",
    "spec.convert('flam')\n",
    "\n",
    "## Compute the models\n",
    "beam_g102.compute_model(spectrum_1d=[spec.wave,spec.flux])\n",
    "\n",
    "## Extractions the model (error array here is meaningless)\n",
    "w, f, e = beam_g102.beam.optimal_extract(beam_g102.model,bin=0)\n",
    "\n",
    "## Get sensitivity function\n",
    "fwv, ffl = [beam_g102.beam.lam, beam_g102.beam.sensitivity / np.max(beam_g102.beam.sensitivity)]\n",
    "filt = interp1d(fwv, ffl)\n",
    "\n",
    "## Clip model to fit in interpolation\n",
    "clip = []\n",
    "for iii in range(len(w)):\n",
    "    if fwv[0] < w[iii] < fwv[-1]:\n",
    "        clip.append(iii)\n",
    "\n",
    "w = w[clip]\n",
    "f = f[clip]\n",
    "\n",
    "f /= filt(w)\n",
    "\n",
    "ID1=[U for U in range(len(w)) if 7900 < w[U] <11300]"
   ]
  },
  {
   "cell_type": "markdown",
   "metadata": {},
   "source": [
    "Plot results"
   ]
  },
  {
   "cell_type": "code",
   "execution_count": 85,
   "metadata": {
    "collapsed": false
   },
   "outputs": [
    {
     "name": "stdout",
     "output_type": "stream",
     "text": [
      "86\n"
     ]
    },
    {
     "data": {
      "image/png": "[encoded data removed]",
      "text/plain": [
       "<matplotlib.figure.Figure at 0x17f2ef950>"
      ]
     },
     "metadata": {},
     "output_type": "display_data"
    },
    {
     "data": {
      "image/png": "[encoded data removed]",
      "text/plain": [
       "<matplotlib.figure.Figure at 0x16d967f10>"
      ]
     },
     "metadata": {},
     "output_type": "display_data"
    }
   ],
   "source": [
    "%matplotlib inline\n",
    "\n",
    "print len(beam_g102.beam.direct)\n",
    "\n",
    "###show cutout\n",
    "plt.figure(figsize=[8,8])\n",
    "plt.imshow(beam_g102.beam.direct*(beam_g102.beam.seg == gal_id), interpolation='Nearest', cmap=colmap, origin='lower')\n",
    "plt.plot(len(beam_g102.beam.direct)/2,len(beam_g102.beam.direct)/2,'o')\n",
    "plt.show()\n",
    "plt.close()\n",
    "\n",
    "###plot spectra\n",
    "plt.figure(figsize=[15,8])\n",
    "plt.plot(w[ID1]/2.256,f[ID1])\n",
    "# plt.plot(w[ID1]/2.249,f[ID1])\n",
    "plt.axvline(3934.777,linestyle='--')\n",
    "plt.axvline(3969.588,linestyle='--')\n",
    "plt.axvline(4102.89,linestyle='--')\n",
    "plt.axvline(4305.61,linestyle='--')\n",
    "plt.axvline(4341.68,linestyle='--')\n",
    "plt.axvline(4862.68,linestyle='--')\n",
    "plt.axvspan(3910, 3979, color='k', alpha=.1)\n",
    "plt.axvspan(3981, 4030, color='k', alpha=.1)\n",
    "plt.axvspan(4082, 4122, color='k', alpha=.1)\n",
    "plt.axvspan(4250, 4400, color='k', alpha=.1)\n",
    "plt.axvspan(4830, 4930, color='k', alpha=.1)\n",
    "plt.show()\n",
    "plt.close()"
   ]
  },
  {
   "cell_type": "code",
   "execution_count": null,
   "metadata": {
    "collapsed": true
   },
   "outputs": [],
   "source": []
  }
 ],
 "metadata": {
  "kernelspec": {
   "display_name": "Python 2",
   "language": "python",
   "name": "python2"
  },
  "language_info": {
   "codemirror_mode": {
    "name": "ipython",
    "version": 2
   },
   "file_extension": ".py",
   "mimetype": "text/x-python",
   "name": "python",
   "nbconvert_exporter": "python",
   "pygments_lexer": "ipython2",
   "version": "2.7.13"
  }
 },
 "nbformat": 4,
 "nbformat_minor": 0
}
