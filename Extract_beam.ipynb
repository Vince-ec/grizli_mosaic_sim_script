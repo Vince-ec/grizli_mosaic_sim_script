{
 "cells": [
  {
   "cell_type": "markdown",
   "metadata": {},
   "source": [
    "# Forward modeling tutorial using mosaic images\n",
    "## Extract BeamCutout"
   ]
  },
  {
   "cell_type": "markdown",
   "metadata": {},
   "source": [
    "Here's a quick tutorial on how to use Grizli to forward model grism spectra. \n",
    "\n",
    "**Seaborn is used to make plots look nicer, if you don't have it you can ignore it. "
   ]
  },
  {
   "cell_type": "code",
   "execution_count": 9,
   "metadata": {
    "collapsed": true
   },
   "outputs": [],
   "source": [
    "from grizli import model\n",
    "import numpy as np\n",
    "import matplotlib.pyplot as plt\n",
    "from scipy.interpolate import interp1d\n",
    "from astropy.table import Table\n",
    "from astropy import wcs\n",
    "from astropy.io import fits\n",
    "from glob import glob\n",
    "import seaborn as sea\n",
    "import os\n",
    "\n",
    "sea.set(style='white')\n",
    "sea.set(style='ticks')\n",
    "sea.set_style({\"xtick.direction\": \"in\",\"ytick.direction\": \"in\"})\n",
    "\n",
    "%config InlineBackend.figure_format = 'retina'\n",
    "%matplotlib inline"
   ]
  },
  {
   "cell_type": "markdown",
   "metadata": {},
   "source": [
    "## Set files and target"
   ]
  },
  {
   "cell_type": "code",
   "execution_count": 2,
   "metadata": {},
   "outputs": [],
   "source": [
    "mosaic = '/Users/vestrada/Clear_data/goodss_mosaic/goodss_3dhst.v4.0.F125W_orig_sci.fits'\n",
    "seg_map = '/Users/vestrada/Clear_data/goodss_mosaic/goodss_3dhst.v4.0.F160W_seg.fits'\n",
    "catalog = '/Users/vestrada/Clear_data/goodss_mosaic/goodss_3dhst.v4.3.cat'\n",
    "instrument = 'G102' # or G141\n",
    "\n",
    "galaxy_id = 39170"
   ]
  },
  {
   "cell_type": "code",
   "execution_count": 17,
   "metadata": {},
   "outputs": [],
   "source": [
    "ref_cat = Table.read(catalog ,format='ascii')\n",
    "\n",
    "galaxy_ra = float(ref_cat['ra'][ref_cat['id'] == galaxy_id])\n",
    "galaxy_dec = float(ref_cat['dec'][ref_cat['id'] == galaxy_id])"
   ]
  },
  {
   "cell_type": "markdown",
   "metadata": {},
   "source": [
    "## Find flt files with target"
   ]
  },
  {
   "cell_type": "code",
   "execution_count": 4,
   "metadata": {},
   "outputs": [],
   "source": [
    "def Source_present(fn,ra,dec):  ### finds source in flt file, returns if present and the pos in pixels\n",
    "    flt=fits.open(fn)\n",
    "    present = False\n",
    "    \n",
    "    w = wcs.WCS(flt[1].header)\n",
    "\n",
    "    xpixlim=len(flt[1].data[0])\n",
    "    ypixlim=len(flt[1].data)\n",
    "\n",
    "    [pos]=w.wcs_world2pix([[ra,dec]],1)\n",
    "\n",
    "    if -100 <pos[0]< (xpixlim - 35) and 0 <pos[1]<ypixlim and flt[0].header['OBSTYPE'] == 'SPECTROSCOPIC':\n",
    "        present=True\n",
    "            \n",
    "    return present,pos"
   ]
  },
  {
   "cell_type": "code",
   "execution_count": 5,
   "metadata": {},
   "outputs": [],
   "source": [
    "flt_files = glob('/Users/vestrada/Clear_data/s_flt_files/*')"
   ]
  },
  {
   "cell_type": "code",
   "execution_count": 6,
   "metadata": {},
   "outputs": [
    {
     "name": "stdout",
     "output_type": "stream",
     "text": [
      "x=-38.7 y=754.5, PA=122.3, file=icxt19o6q_flt.fits \n",
      "x=-28.7 y=758.0, PA=122.3, file=icxt19o7q_flt.fits \n",
      "x=-32.2 y=764.5, PA=122.3, file=icxt19oaq_flt.fits \n",
      "x=-42.2 y=761.1, PA=122.3, file=icxt19ocq_flt.fits \n",
      "x=-87.0 y=484.8, PA=92.3, file=icxt20f7q_flt.fits \n",
      "x=-77.0 y=488.3, PA=92.3, file=icxt20f8q_flt.fits \n",
      "x=-80.5 y=494.8, PA=92.3, file=icxt20fbq_flt.fits \n",
      "x=-90.5 y=491.4, PA=92.3, file=icxt20fdq_flt.fits \n",
      "x=-86.9 y=484.9, PA=92.3, file=icxt21b7q_flt.fits \n",
      "x=-76.9 y=488.3, PA=92.3, file=icxt21b8q_flt.fits \n",
      "x=-80.4 y=494.9, PA=92.3, file=icxt21bcq_flt.fits \n",
      "x=-90.5 y=491.4, PA=92.3, file=icxt21beq_flt.fits \n",
      "x=58.9 y=901.9, PA=142.3, file=icxt22pmq_flt.fits \n",
      "x=68.9 y=905.4, PA=142.3, file=icxt22pnq_flt.fits \n",
      "x=65.4 y=911.9, PA=142.3, file=icxt22pqq_flt.fits \n",
      "x=55.4 y=908.4, PA=142.3, file=icxt22psq_flt.fits \n",
      "x=58.9 y=902.0, PA=142.3, file=icxt23pvq_flt.fits \n",
      "x=68.9 y=905.5, PA=142.3, file=icxt23pwq_flt.fits \n",
      "x=65.4 y=912.0, PA=142.3, file=icxt23pzq_flt.fits \n",
      "x=55.4 y=908.5, PA=142.3, file=icxt23q1q_flt.fits \n"
     ]
    }
   ],
   "source": [
    "goodflts = []\n",
    "for i in flt_files:\n",
    "    in_flt,loc = Source_present(i,galaxy_ra,galaxy_dec)\n",
    "    if in_flt:\n",
    "        goodflts.append(i)\n",
    "        print('x={0:0.1f} y={1:0.1f}, PA={2:0.1f}, file={3} '.format(\n",
    "            loc[0],loc[1],fits.open(i)[0].header['PA_V3'], os.path.basename(i)))"
   ]
  },
  {
   "cell_type": "code",
   "execution_count": 7,
   "metadata": {},
   "outputs": [],
   "source": [
    "orient_1 = '/Users/vestrada/Clear_data/s_flt_files/icxt21b8q_flt.fits' ; PA_1 = 92.3\n",
    "orient_2 = '/Users/vestrada/Clear_data/s_flt_files/icxt19oaq_flt.fits' ; PA_2 = 122.3\n",
    "orient_3 = '/Users/vestrada/Clear_data/s_flt_files/icxt22psq_flt.fits' ; PA_3 = 142.3"
   ]
  },
  {
   "cell_type": "markdown",
   "metadata": {},
   "source": [
    "## Use Grizli to extract beam"
   ]
  },
  {
   "cell_type": "code",
   "execution_count": 18,
   "metadata": {},
   "outputs": [
    {
     "name": "stdout",
     "output_type": "stream",
     "text": [
      "Image cutout: x=slice(11288, 15793, None), y=slice(13890, 18029, None)\n",
      "/Users/vestrada/Clear_data/s_flt_files/icxt22psq_flt.fits / blot reference /Users/vestrada/Clear_data/goodss_mosaic/goodss_3dhst.v4.0.F125W_orig_sci.fits[0]\n",
      "Using default C-based coordinate transformation...\n",
      "Image cutout: x=slice(11288, 15793, None), y=slice(13890, 18029, None)\n",
      "/Users/vestrada/Clear_data/s_flt_files/icxt22psq_flt.fits / Pad ref HDU with 50 pixels\n",
      "/Users/vestrada/Clear_data/s_flt_files/icxt22psq_flt.fits / blot segmentation /Users/vestrada/Clear_data/goodss_mosaic/goodss_3dhst.v4.0.F160W_seg.fits[0]\n",
      "Using default C-based coordinate transformation...\n",
      "Using default C-based coordinate transformation...\n"
     ]
    }
   ],
   "source": [
    "flt = model.GrismFLT(grism_file = orient_3 ,\n",
    "                          ref_file = mosaic, seg_file = seg_map,\n",
    "                            pad=200, ref_ext=0, shrink_segimage=True, force_grism = instrument)\n",
    "    \n",
    "# catalog / semetation image\n",
    "seg_cat = flt.blot_catalog(ref_cat,sextractor=False)"
   ]
  },
  {
   "cell_type": "code",
   "execution_count": 19,
   "metadata": {
    "collapsed": true
   },
   "outputs": [],
   "source": [
    "flt.compute_full_model(ids=seg_cat['id'])\n",
    "beam = flt.object_dispersers[galaxy_id][2]['A']"
   ]
  },
  {
   "cell_type": "code",
   "execution_count": 20,
   "metadata": {},
   "outputs": [],
   "source": [
    "co = model.BeamCutout(flt, beam, conf=flt.conf)"
   ]
  },
  {
   "cell_type": "code",
   "execution_count": 21,
   "metadata": {},
   "outputs": [
    {
     "data": {
      "text/plain": [
       "<matplotlib.image.AxesImage at 0x1a18d542b0>"
      ]
     },
     "execution_count": 21,
     "metadata": {},
     "output_type": "execute_result"
    },
    {
     "data": {
      "image/png": "[encoded data removed]",
      "text/plain": [
       "<Figure size 432x288 with 1 Axes>"
      ]
     },
     "metadata": {
      "image/png": {
       "height": 250,
       "width": 249
      }
     },
     "output_type": "display_data"
    }
   ],
   "source": [
    "plt.imshow(beam.direct)"
   ]
  },
  {
   "cell_type": "code",
   "execution_count": 90,
   "metadata": {},
   "outputs": [],
   "source": [
    "co.write_fits(root='beams/o{0}'.format(PA_3), clobber=True)\n",
    "\n",
    "### add EXPTIME to extension 0\n",
    "fits.setval('beams/o{0}_{1}.{2}.A.fits'.format(PA_3, galaxy_id, instrument), 'EXPTIME', ext=0,\n",
    "        value=fits.open('beams/o{0}_{1}.{2}.A.fits'.format(PA_3, galaxy_id, instrument))[1].header['EXPTIME'])"
   ]
  }
 ],
 "metadata": {
  "kernelspec": {
   "display_name": "Python 3",
   "language": "python",
   "name": "python3"
  },
  "language_info": {
   "codemirror_mode": {
    "name": "ipython",
    "version": 3
   },
   "file_extension": ".py",
   "mimetype": "text/x-python",
   "name": "python",
   "nbconvert_exporter": "python",
   "pygments_lexer": "ipython3",
   "version": "3.5.5"
  }
 },
 "nbformat": 4,
 "nbformat_minor": 2
}
